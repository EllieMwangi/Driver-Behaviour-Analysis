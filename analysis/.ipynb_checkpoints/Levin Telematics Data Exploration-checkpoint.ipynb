{
 "cells": [
  {
   "cell_type": "code",
   "execution_count": 1,
   "metadata": {},
   "outputs": [],
   "source": [
    "import pandas as pd\n",
    "import numpy as np\n",
    "import matplotlib.pyplot as plt\n",
    "import seaborn as sns"
   ]
  },
  {
   "cell_type": "code",
   "execution_count": 2,
   "metadata": {},
   "outputs": [
    {
     "name": "stderr",
     "output_type": "stream",
     "text": [
      "e:\\envirocar\\venv\\lib\\site-packages\\IPython\\core\\interactiveshell.py:3057: DtypeWarning: Columns (0,1,3,4,5,6,7,8,9,10,11,12,13,14,15,16) have mixed types. Specify dtype option on import or set low_memory=False.\n",
      "  interactivity=interactivity, compiler=compiler, result=result)\n"
     ]
    }
   ],
   "source": [
    "levin_data = pd.read_csv(r'E:\\Envirocar\\analysis\\levin-car-data.csv')"
   ]
  },
  {
   "cell_type": "code",
   "execution_count": 3,
   "metadata": {},
   "outputs": [
    {
     "data": {
      "text/html": [
       "<div>\n",
       "<style scoped>\n",
       "    .dataframe tbody tr th:only-of-type {\n",
       "        vertical-align: middle;\n",
       "    }\n",
       "\n",
       "    .dataframe tbody tr th {\n",
       "        vertical-align: top;\n",
       "    }\n",
       "\n",
       "    .dataframe thead th {\n",
       "        text-align: right;\n",
       "    }\n",
       "</style>\n",
       "<table border=\"1\" class=\"dataframe\">\n",
       "  <thead>\n",
       "    <tr style=\"text-align: right;\">\n",
       "      <th></th>\n",
       "      <th>tripID</th>\n",
       "      <th>deviceID</th>\n",
       "      <th>timeStamp</th>\n",
       "      <th>accData</th>\n",
       "      <th>gps_speed</th>\n",
       "      <th>battery</th>\n",
       "      <th>cTemp</th>\n",
       "      <th>dtc</th>\n",
       "      <th>eLoad</th>\n",
       "      <th>iat</th>\n",
       "      <th>imap</th>\n",
       "      <th>kpl</th>\n",
       "      <th>maf</th>\n",
       "      <th>rpm</th>\n",
       "      <th>speed</th>\n",
       "      <th>tAdv</th>\n",
       "      <th>tPos</th>\n",
       "    </tr>\n",
       "  </thead>\n",
       "  <tbody>\n",
       "    <tr>\n",
       "      <th>0</th>\n",
       "      <td>1</td>\n",
       "      <td>0</td>\n",
       "      <td>2017-12-22 18:43:05</td>\n",
       "      <td>10c0f8e00448fa18c80515d30000000000000000000000...</td>\n",
       "      <td>24.2612</td>\n",
       "      <td>0</td>\n",
       "      <td>66</td>\n",
       "      <td>0</td>\n",
       "      <td>28.6275</td>\n",
       "      <td>40</td>\n",
       "      <td>97</td>\n",
       "      <td>0</td>\n",
       "      <td>0</td>\n",
       "      <td>1010.75</td>\n",
       "      <td>23</td>\n",
       "      <td>0</td>\n",
       "      <td>0</td>\n",
       "    </tr>\n",
       "    <tr>\n",
       "      <th>1</th>\n",
       "      <td>1</td>\n",
       "      <td>0</td>\n",
       "      <td>2017-12-22 18:43:06</td>\n",
       "      <td>1138f8c804780a1ebdf718bcf919d10617c8e301b31017...</td>\n",
       "      <td>23.15</td>\n",
       "      <td>0</td>\n",
       "      <td>66</td>\n",
       "      <td>0</td>\n",
       "      <td>33.7255</td>\n",
       "      <td>40</td>\n",
       "      <td>98</td>\n",
       "      <td>0</td>\n",
       "      <td>0</td>\n",
       "      <td>815.5</td>\n",
       "      <td>21</td>\n",
       "      <td>0</td>\n",
       "      <td>0</td>\n",
       "    </tr>\n",
       "    <tr>\n",
       "      <th>2</th>\n",
       "      <td>1</td>\n",
       "      <td>0</td>\n",
       "      <td>2017-12-22 18:43:07</td>\n",
       "      <td>10f0f89804480612c30010c30714ce0520b7f41dbdf118...</td>\n",
       "      <td>18.7052</td>\n",
       "      <td>0</td>\n",
       "      <td>66</td>\n",
       "      <td>0</td>\n",
       "      <td>43.1373</td>\n",
       "      <td>40</td>\n",
       "      <td>98</td>\n",
       "      <td>0</td>\n",
       "      <td>0</td>\n",
       "      <td>862.25</td>\n",
       "      <td>17</td>\n",
       "      <td>0</td>\n",
       "      <td>0</td>\n",
       "    </tr>\n",
       "    <tr>\n",
       "      <th>3</th>\n",
       "      <td>1</td>\n",
       "      <td>0</td>\n",
       "      <td>2017-12-22 18:43:08</td>\n",
       "      <td>10d0f84804480d15bd0210c9f822c80017caf81ccd0517...</td>\n",
       "      <td>16.4828</td>\n",
       "      <td>0</td>\n",
       "      <td>66</td>\n",
       "      <td>0</td>\n",
       "      <td>41.5686</td>\n",
       "      <td>40</td>\n",
       "      <td>97</td>\n",
       "      <td>0</td>\n",
       "      <td>0</td>\n",
       "      <td>817</td>\n",
       "      <td>17</td>\n",
       "      <td>0</td>\n",
       "      <td>0</td>\n",
       "    </tr>\n",
       "    <tr>\n",
       "      <th>4</th>\n",
       "      <td>1</td>\n",
       "      <td>0</td>\n",
       "      <td>2017-12-22 18:43:09</td>\n",
       "      <td>1090f8c80480041dc9081cc50815c60511c60112c40514...</td>\n",
       "      <td>17.4088</td>\n",
       "      <td>0</td>\n",
       "      <td>66</td>\n",
       "      <td>0</td>\n",
       "      <td>43.1373</td>\n",
       "      <td>40</td>\n",
       "      <td>97</td>\n",
       "      <td>0</td>\n",
       "      <td>0</td>\n",
       "      <td>804.25</td>\n",
       "      <td>15</td>\n",
       "      <td>0</td>\n",
       "      <td>0</td>\n",
       "    </tr>\n",
       "  </tbody>\n",
       "</table>\n",
       "</div>"
      ],
      "text/plain": [
       "  tripID deviceID            timeStamp  \\\n",
       "0      1        0  2017-12-22 18:43:05   \n",
       "1      1        0  2017-12-22 18:43:06   \n",
       "2      1        0  2017-12-22 18:43:07   \n",
       "3      1        0  2017-12-22 18:43:08   \n",
       "4      1        0  2017-12-22 18:43:09   \n",
       "\n",
       "                                             accData gps_speed battery cTemp  \\\n",
       "0  10c0f8e00448fa18c80515d30000000000000000000000...   24.2612       0    66   \n",
       "1  1138f8c804780a1ebdf718bcf919d10617c8e301b31017...     23.15       0    66   \n",
       "2  10f0f89804480612c30010c30714ce0520b7f41dbdf118...   18.7052       0    66   \n",
       "3  10d0f84804480d15bd0210c9f822c80017caf81ccd0517...   16.4828       0    66   \n",
       "4  1090f8c80480041dc9081cc50815c60511c60112c40514...   17.4088       0    66   \n",
       "\n",
       "  dtc    eLoad iat imap kpl maf      rpm speed tAdv tPos  \n",
       "0   0  28.6275  40   97   0   0  1010.75    23    0    0  \n",
       "1   0  33.7255  40   98   0   0    815.5    21    0    0  \n",
       "2   0  43.1373  40   98   0   0   862.25    17    0    0  \n",
       "3   0  41.5686  40   97   0   0      817    17    0    0  \n",
       "4   0  43.1373  40   97   0   0   804.25    15    0    0  "
      ]
     },
     "execution_count": 3,
     "metadata": {},
     "output_type": "execute_result"
    }
   ],
   "source": [
    "levin_data.head()"
   ]
  },
  {
   "cell_type": "code",
   "execution_count": 4,
   "metadata": {},
   "outputs": [
    {
     "data": {
      "text/html": [
       "<div>\n",
       "<style scoped>\n",
       "    .dataframe tbody tr th:only-of-type {\n",
       "        vertical-align: middle;\n",
       "    }\n",
       "\n",
       "    .dataframe tbody tr th {\n",
       "        vertical-align: top;\n",
       "    }\n",
       "\n",
       "    .dataframe thead th {\n",
       "        text-align: right;\n",
       "    }\n",
       "</style>\n",
       "<table border=\"1\" class=\"dataframe\">\n",
       "  <thead>\n",
       "    <tr style=\"text-align: right;\">\n",
       "      <th></th>\n",
       "      <th>tripID</th>\n",
       "      <th>deviceID</th>\n",
       "      <th>timeStamp</th>\n",
       "      <th>accData</th>\n",
       "      <th>gps_speed</th>\n",
       "      <th>battery</th>\n",
       "      <th>cTemp</th>\n",
       "      <th>dtc</th>\n",
       "      <th>eLoad</th>\n",
       "      <th>iat</th>\n",
       "      <th>imap</th>\n",
       "      <th>kpl</th>\n",
       "      <th>maf</th>\n",
       "      <th>rpm</th>\n",
       "      <th>speed</th>\n",
       "      <th>tAdv</th>\n",
       "      <th>tPos</th>\n",
       "    </tr>\n",
       "  </thead>\n",
       "  <tbody>\n",
       "    <tr>\n",
       "      <th>count</th>\n",
       "      <td>3120272</td>\n",
       "      <td>3120272.0</td>\n",
       "      <td>3120272</td>\n",
       "      <td>3120272</td>\n",
       "      <td>3120272.0</td>\n",
       "      <td>3120272.0</td>\n",
       "      <td>3120272.0</td>\n",
       "      <td>3120272.0</td>\n",
       "      <td>3120272.0</td>\n",
       "      <td>3120272.0</td>\n",
       "      <td>3120272.0</td>\n",
       "      <td>3120272.0</td>\n",
       "      <td>3120272.0</td>\n",
       "      <td>3120272.0</td>\n",
       "      <td>3120272.0</td>\n",
       "      <td>3120272.0</td>\n",
       "      <td>3120272.0</td>\n",
       "    </tr>\n",
       "    <tr>\n",
       "      <th>unique</th>\n",
       "      <td>694</td>\n",
       "      <td>24.0</td>\n",
       "      <td>1740023</td>\n",
       "      <td>1811225</td>\n",
       "      <td>13642.0</td>\n",
       "      <td>997.0</td>\n",
       "      <td>269.0</td>\n",
       "      <td>6.0</td>\n",
       "      <td>519.0</td>\n",
       "      <td>164.0</td>\n",
       "      <td>644.0</td>\n",
       "      <td>169555.0</td>\n",
       "      <td>11608.0</td>\n",
       "      <td>21706.0</td>\n",
       "      <td>416.0</td>\n",
       "      <td>306.0</td>\n",
       "      <td>509.0</td>\n",
       "    </tr>\n",
       "    <tr>\n",
       "      <th>top</th>\n",
       "      <td>67</td>\n",
       "      <td>12.0</td>\n",
       "      <td>timeStamp</td>\n",
       "      <td>0</td>\n",
       "      <td>0.0</td>\n",
       "      <td>0.0</td>\n",
       "      <td>0.0</td>\n",
       "      <td>0.0</td>\n",
       "      <td>0.0</td>\n",
       "      <td>0.0</td>\n",
       "      <td>0.0</td>\n",
       "      <td>0.0</td>\n",
       "      <td>0.0</td>\n",
       "      <td>0.0</td>\n",
       "      <td>0.0</td>\n",
       "      <td>0.0</td>\n",
       "      <td>0.0</td>\n",
       "    </tr>\n",
       "    <tr>\n",
       "      <th>freq</th>\n",
       "      <td>34488</td>\n",
       "      <td>655360.0</td>\n",
       "      <td>32</td>\n",
       "      <td>425984</td>\n",
       "      <td>649936.0</td>\n",
       "      <td>1970863.0</td>\n",
       "      <td>513870.0</td>\n",
       "      <td>2399305.0</td>\n",
       "      <td>680665.0</td>\n",
       "      <td>513825.0</td>\n",
       "      <td>513935.0</td>\n",
       "      <td>1034334.0</td>\n",
       "      <td>794353.0</td>\n",
       "      <td>600135.0</td>\n",
       "      <td>832334.0</td>\n",
       "      <td>1984426.0</td>\n",
       "      <td>1542214.0</td>\n",
       "    </tr>\n",
       "  </tbody>\n",
       "</table>\n",
       "</div>"
      ],
      "text/plain": [
       "         tripID   deviceID  timeStamp  accData  gps_speed    battery  \\\n",
       "count   3120272  3120272.0    3120272  3120272  3120272.0  3120272.0   \n",
       "unique      694       24.0    1740023  1811225    13642.0      997.0   \n",
       "top          67       12.0  timeStamp        0        0.0        0.0   \n",
       "freq      34488   655360.0         32   425984   649936.0  1970863.0   \n",
       "\n",
       "            cTemp        dtc      eLoad        iat       imap        kpl  \\\n",
       "count   3120272.0  3120272.0  3120272.0  3120272.0  3120272.0  3120272.0   \n",
       "unique      269.0        6.0      519.0      164.0      644.0   169555.0   \n",
       "top           0.0        0.0        0.0        0.0        0.0        0.0   \n",
       "freq     513870.0  2399305.0   680665.0   513825.0   513935.0  1034334.0   \n",
       "\n",
       "              maf        rpm      speed       tAdv       tPos  \n",
       "count   3120272.0  3120272.0  3120272.0  3120272.0  3120272.0  \n",
       "unique    11608.0    21706.0      416.0      306.0      509.0  \n",
       "top           0.0        0.0        0.0        0.0        0.0  \n",
       "freq     794353.0   600135.0   832334.0  1984426.0  1542214.0  "
      ]
     },
     "execution_count": 4,
     "metadata": {},
     "output_type": "execute_result"
    }
   ],
   "source": [
    "levin_data.describe()"
   ]
  },
  {
   "cell_type": "code",
   "execution_count": 5,
   "metadata": {},
   "outputs": [
    {
     "data": {
      "text/plain": [
       "count     3120272.0\n",
       "unique         24.0\n",
       "top            12.0\n",
       "freq       655360.0\n",
       "Name: deviceID, dtype: float64"
      ]
     },
     "execution_count": 5,
     "metadata": {},
     "output_type": "execute_result"
    }
   ],
   "source": [
    "levin_data['deviceID'].describe()"
   ]
  },
  {
   "cell_type": "code",
   "execution_count": 21,
   "metadata": {},
   "outputs": [
    {
     "data": {
      "text/plain": [
       "{0.0,\n",
       " '0.0',\n",
       " '1.0',\n",
       " 10.0,\n",
       " '10.0',\n",
       " '11.0',\n",
       " 12.0,\n",
       " '12.0',\n",
       " '14.0',\n",
       " '16.0',\n",
       " 16.0,\n",
       " '2.0',\n",
       " 3.0,\n",
       " '3.0',\n",
       " '4.0',\n",
       " 5.0,\n",
       " '5.0',\n",
       " '6.0',\n",
       " 7.0,\n",
       " '7.0',\n",
       " '8.0',\n",
       " 9.0,\n",
       " '9.0',\n",
       " 'deviceID'}"
      ]
     },
     "execution_count": 21,
     "metadata": {},
     "output_type": "execute_result"
    }
   ],
   "source": [
    "ids = set(levin_data['deviceID'].values)\n",
    "ids"
   ]
  },
  {
   "cell_type": "code",
   "execution_count": 22,
   "metadata": {},
   "outputs": [],
   "source": [
    "levin_data = levin_data[levin_data.deviceID != 'deviceID']\n",
    "levin_data['deviceID'] = pd.to_numeric(levin_data['deviceID'])"
   ]
  },
  {
   "cell_type": "code",
   "execution_count": 28,
   "metadata": {},
   "outputs": [
    {
     "data": {
      "text/plain": [
       "<matplotlib.axes._subplots.AxesSubplot at 0x20d006e8fd0>"
      ]
     },
     "execution_count": 28,
     "metadata": {},
     "output_type": "execute_result"
    },
    {
     "data": {
      "image/png": "[encoded data removed]",
      "text/plain": [
       "<Figure size 432x288 with 1 Axes>"
      ]
     },
     "metadata": {
      "needs_background": "light"
     },
     "output_type": "display_data"
    }
   ],
   "source": [
    "sns.distplot(levin_data['deviceID'], kde=False )"
   ]
  },
  {
   "cell_type": "code",
   "execution_count": 30,
   "metadata": {},
   "outputs": [],
   "source": [
    "deviceID_10 = levin_data[levin_data.deviceID == 10.0]\n",
    "deviceID_12 = levin_data[levin_data.deviceID == 12.0]"
   ]
  },
  {
   "cell_type": "code",
   "execution_count": 31,
   "metadata": {},
   "outputs": [
    {
     "data": {
      "text/html": [
       "<div>\n",
       "<style scoped>\n",
       "    .dataframe tbody tr th:only-of-type {\n",
       "        vertical-align: middle;\n",
       "    }\n",
       "\n",
       "    .dataframe tbody tr th {\n",
       "        vertical-align: top;\n",
       "    }\n",
       "\n",
       "    .dataframe thead th {\n",
       "        text-align: right;\n",
       "    }\n",
       "</style>\n",
       "<table border=\"1\" class=\"dataframe\">\n",
       "  <thead>\n",
       "    <tr style=\"text-align: right;\">\n",
       "      <th></th>\n",
       "      <th>tripID</th>\n",
       "      <th>deviceID</th>\n",
       "      <th>timeStamp</th>\n",
       "      <th>accData</th>\n",
       "      <th>gps_speed</th>\n",
       "      <th>battery</th>\n",
       "      <th>cTemp</th>\n",
       "      <th>dtc</th>\n",
       "      <th>eLoad</th>\n",
       "      <th>iat</th>\n",
       "      <th>imap</th>\n",
       "      <th>kpl</th>\n",
       "      <th>maf</th>\n",
       "      <th>rpm</th>\n",
       "      <th>speed</th>\n",
       "      <th>tAdv</th>\n",
       "      <th>tPos</th>\n",
       "    </tr>\n",
       "  </thead>\n",
       "  <tbody>\n",
       "    <tr>\n",
       "      <th>106462</th>\n",
       "      <td>1</td>\n",
       "      <td>10.0</td>\n",
       "      <td>2017-12-01 07:45:48</td>\n",
       "      <td>8b1091a89c10ddd3f3ddd3f30000000000000000000000...</td>\n",
       "      <td>0.0</td>\n",
       "      <td>0.0</td>\n",
       "      <td>17.0</td>\n",
       "      <td>0.0</td>\n",
       "      <td>27.0588</td>\n",
       "      <td>15.0</td>\n",
       "      <td>97.0</td>\n",
       "      <td>0.0</td>\n",
       "      <td>9.08</td>\n",
       "      <td>823.0</td>\n",
       "      <td>0.0</td>\n",
       "      <td>0.0</td>\n",
       "      <td>0.0</td>\n",
       "    </tr>\n",
       "    <tr>\n",
       "      <th>106463</th>\n",
       "      <td>1</td>\n",
       "      <td>10.0</td>\n",
       "      <td>2017-12-01 07:45:49</td>\n",
       "      <td>8b1091a89c10ddd3f3ddd3f3ddd3f3ddd3f3ddd3f3ddd3...</td>\n",
       "      <td>0.0</td>\n",
       "      <td>0.0</td>\n",
       "      <td>17.0</td>\n",
       "      <td>0.0</td>\n",
       "      <td>27.451</td>\n",
       "      <td>15.0</td>\n",
       "      <td>97.0</td>\n",
       "      <td>0.0</td>\n",
       "      <td>8.88</td>\n",
       "      <td>820.5</td>\n",
       "      <td>0.0</td>\n",
       "      <td>0.0</td>\n",
       "      <td>0.0</td>\n",
       "    </tr>\n",
       "    <tr>\n",
       "      <th>106464</th>\n",
       "      <td>1</td>\n",
       "      <td>10.0</td>\n",
       "      <td>2017-12-01 07:45:50</td>\n",
       "      <td>8b1091a89c10ddd3f3ddd3f3ddd3f3ddd3f3ddd3f3ddd3...</td>\n",
       "      <td>0.0</td>\n",
       "      <td>0.0</td>\n",
       "      <td>17.0</td>\n",
       "      <td>0.0</td>\n",
       "      <td>25.8824</td>\n",
       "      <td>15.0</td>\n",
       "      <td>97.0</td>\n",
       "      <td>0.0</td>\n",
       "      <td>8.97</td>\n",
       "      <td>822.5</td>\n",
       "      <td>0.0</td>\n",
       "      <td>0.0</td>\n",
       "      <td>0.0</td>\n",
       "    </tr>\n",
       "    <tr>\n",
       "      <th>106465</th>\n",
       "      <td>1</td>\n",
       "      <td>10.0</td>\n",
       "      <td>2017-12-01 07:45:51</td>\n",
       "      <td>8b1091a89c10ddd3f3ddd3f3ddd3f3ddd3f3ddd3f3ddd3...</td>\n",
       "      <td>0.0</td>\n",
       "      <td>0.0</td>\n",
       "      <td>17.0</td>\n",
       "      <td>0.0</td>\n",
       "      <td>27.0588</td>\n",
       "      <td>15.0</td>\n",
       "      <td>97.0</td>\n",
       "      <td>0.0</td>\n",
       "      <td>8.86</td>\n",
       "      <td>811.5</td>\n",
       "      <td>0.0</td>\n",
       "      <td>0.0</td>\n",
       "      <td>0.0</td>\n",
       "    </tr>\n",
       "    <tr>\n",
       "      <th>106466</th>\n",
       "      <td>1</td>\n",
       "      <td>10.0</td>\n",
       "      <td>2017-12-01 07:45:52</td>\n",
       "      <td>8b1091a89c10ddd3f3ddd3f3ddd3f3ddd3f3ddd3f3ddd3...</td>\n",
       "      <td>0.0</td>\n",
       "      <td>0.0</td>\n",
       "      <td>17.0</td>\n",
       "      <td>0.0</td>\n",
       "      <td>26.2745</td>\n",
       "      <td>15.0</td>\n",
       "      <td>97.0</td>\n",
       "      <td>0.0</td>\n",
       "      <td>9.02</td>\n",
       "      <td>815.5</td>\n",
       "      <td>0.0</td>\n",
       "      <td>0.0</td>\n",
       "      <td>0.0</td>\n",
       "    </tr>\n",
       "  </tbody>\n",
       "</table>\n",
       "</div>"
      ],
      "text/plain": [
       "       tripID  deviceID            timeStamp  \\\n",
       "106462      1      10.0  2017-12-01 07:45:48   \n",
       "106463      1      10.0  2017-12-01 07:45:49   \n",
       "106464      1      10.0  2017-12-01 07:45:50   \n",
       "106465      1      10.0  2017-12-01 07:45:51   \n",
       "106466      1      10.0  2017-12-01 07:45:52   \n",
       "\n",
       "                                                  accData gps_speed battery  \\\n",
       "106462  8b1091a89c10ddd3f3ddd3f30000000000000000000000...       0.0     0.0   \n",
       "106463  8b1091a89c10ddd3f3ddd3f3ddd3f3ddd3f3ddd3f3ddd3...       0.0     0.0   \n",
       "106464  8b1091a89c10ddd3f3ddd3f3ddd3f3ddd3f3ddd3f3ddd3...       0.0     0.0   \n",
       "106465  8b1091a89c10ddd3f3ddd3f3ddd3f3ddd3f3ddd3f3ddd3...       0.0     0.0   \n",
       "106466  8b1091a89c10ddd3f3ddd3f3ddd3f3ddd3f3ddd3f3ddd3...       0.0     0.0   \n",
       "\n",
       "       cTemp  dtc    eLoad   iat  imap  kpl   maf    rpm speed tAdv tPos  \n",
       "106462  17.0  0.0  27.0588  15.0  97.0  0.0  9.08  823.0   0.0  0.0  0.0  \n",
       "106463  17.0  0.0   27.451  15.0  97.0  0.0  8.88  820.5   0.0  0.0  0.0  \n",
       "106464  17.0  0.0  25.8824  15.0  97.0  0.0  8.97  822.5   0.0  0.0  0.0  \n",
       "106465  17.0  0.0  27.0588  15.0  97.0  0.0  8.86  811.5   0.0  0.0  0.0  \n",
       "106466  17.0  0.0  26.2745  15.0  97.0  0.0  9.02  815.5   0.0  0.0  0.0  "
      ]
     },
     "execution_count": 31,
     "metadata": {},
     "output_type": "execute_result"
    }
   ],
   "source": [
    "deviceID_10.head()"
   ]
  },
  {
   "cell_type": "code",
   "execution_count": 36,
   "metadata": {},
   "outputs": [
    {
     "name": "stderr",
     "output_type": "stream",
     "text": [
      "e:\\envirocar\\venv\\lib\\site-packages\\ipykernel_launcher.py:2: SettingWithCopyWarning: \n",
      "A value is trying to be set on a copy of a slice from a DataFrame.\n",
      "Try using .loc[row_indexer,col_indexer] = value instead\n",
      "\n",
      "See the caveats in the documentation: http://pandas.pydata.org/pandas-docs/stable/user_guide/indexing.html#returning-a-view-versus-a-copy\n",
      "  \n"
     ]
    },
    {
     "data": {
      "text/plain": [
       "<matplotlib.axes._subplots.AxesSubplot at 0x20d00934080>"
      ]
     },
     "execution_count": 36,
     "metadata": {},
     "output_type": "execute_result"
    },
    {
     "data": {
      "image/png": "[encoded data removed]",
      "text/plain": [
       "<Figure size 432x288 with 1 Axes>"
      ]
     },
     "metadata": {
      "needs_background": "light"
     },
     "output_type": "display_data"
    }
   ],
   "source": [
    "#trip_ids = set(deviceID_10['tripID'].values)\n",
    "deviceID_10['tripID'] = pd.to_numeric(deviceID_10['tripID'])\n",
    "sns.distplot(deviceID_10['tripID'], kde=False)"
   ]
  },
  {
   "cell_type": "code",
   "execution_count": 37,
   "metadata": {},
   "outputs": [
    {
     "data": {
      "text/plain": [
       "431"
      ]
     },
     "execution_count": 37,
     "metadata": {},
     "output_type": "execute_result"
    }
   ],
   "source": [
    "no_of_trips = len(set(deviceID_10['tripID'].values))\n",
    "no_of_trips"
   ]
  },
  {
   "cell_type": "code",
   "execution_count": 38,
   "metadata": {},
   "outputs": [
    {
     "name": "stderr",
     "output_type": "stream",
     "text": [
      "e:\\envirocar\\venv\\lib\\site-packages\\ipykernel_launcher.py:1: SettingWithCopyWarning: \n",
      "A value is trying to be set on a copy of a slice from a DataFrame.\n",
      "Try using .loc[row_indexer,col_indexer] = value instead\n",
      "\n",
      "See the caveats in the documentation: http://pandas.pydata.org/pandas-docs/stable/user_guide/indexing.html#returning-a-view-versus-a-copy\n",
      "  \"\"\"Entry point for launching an IPython kernel.\n"
     ]
    },
    {
     "data": {
      "text/plain": [
       "<matplotlib.axes._subplots.AxesSubplot at 0x20d008bbf60>"
      ]
     },
     "execution_count": 38,
     "metadata": {},
     "output_type": "execute_result"
    },
    {
     "data": {
      "image/png": "[encoded data removed]",
      "text/plain": [
       "<Figure size 432x288 with 1 Axes>"
      ]
     },
     "metadata": {
      "needs_background": "light"
     },
     "output_type": "display_data"
    }
   ],
   "source": [
    "deviceID_12['tripID'] = pd.to_numeric(deviceID_12['tripID'])\n",
    "sns.distplot(deviceID_12['tripID'], kde=False)"
   ]
  },
  {
   "cell_type": "code",
   "execution_count": 40,
   "metadata": {},
   "outputs": [
    {
     "data": {
      "text/plain": [
       "278"
      ]
     },
     "execution_count": 40,
     "metadata": {},
     "output_type": "execute_result"
    }
   ],
   "source": [
    "no_of_trips = len(set(deviceID_12['tripID'].values))\n",
    "no_of_trips"
   ]
  },
  {
   "cell_type": "code",
   "execution_count": 43,
   "metadata": {},
   "outputs": [
    {
     "name": "stderr",
     "output_type": "stream",
     "text": [
      "e:\\envirocar\\venv\\lib\\site-packages\\ipykernel_launcher.py:1: SettingWithCopyWarning: \n",
      "A value is trying to be set on a copy of a slice from a DataFrame.\n",
      "Try using .loc[row_indexer,col_indexer] = value instead\n",
      "\n",
      "See the caveats in the documentation: http://pandas.pydata.org/pandas-docs/stable/user_guide/indexing.html#returning-a-view-versus-a-copy\n",
      "  \"\"\"Entry point for launching an IPython kernel.\n"
     ]
    }
   ],
   "source": [
    "deviceID_10['timeStamp'] = pd.to_datetime(deviceID_10['timeStamp'])"
   ]
  },
  {
   "cell_type": "code",
   "execution_count": 44,
   "metadata": {},
   "outputs": [
    {
     "data": {
      "text/html": [
       "<div>\n",
       "<style scoped>\n",
       "    .dataframe tbody tr th:only-of-type {\n",
       "        vertical-align: middle;\n",
       "    }\n",
       "\n",
       "    .dataframe tbody tr th {\n",
       "        vertical-align: top;\n",
       "    }\n",
       "\n",
       "    .dataframe thead th {\n",
       "        text-align: right;\n",
       "    }\n",
       "</style>\n",
       "<table border=\"1\" class=\"dataframe\">\n",
       "  <thead>\n",
       "    <tr style=\"text-align: right;\">\n",
       "      <th></th>\n",
       "      <th>tripID</th>\n",
       "      <th>deviceID</th>\n",
       "      <th>timeStamp</th>\n",
       "      <th>accData</th>\n",
       "      <th>gps_speed</th>\n",
       "      <th>battery</th>\n",
       "      <th>cTemp</th>\n",
       "      <th>dtc</th>\n",
       "      <th>eLoad</th>\n",
       "      <th>iat</th>\n",
       "      <th>imap</th>\n",
       "      <th>kpl</th>\n",
       "      <th>maf</th>\n",
       "      <th>rpm</th>\n",
       "      <th>speed</th>\n",
       "      <th>tAdv</th>\n",
       "      <th>tPos</th>\n",
       "    </tr>\n",
       "  </thead>\n",
       "  <tbody>\n",
       "    <tr>\n",
       "      <th>106462</th>\n",
       "      <td>1</td>\n",
       "      <td>10.0</td>\n",
       "      <td>2017-12-01 07:45:48</td>\n",
       "      <td>8b1091a89c10ddd3f3ddd3f30000000000000000000000...</td>\n",
       "      <td>0.0</td>\n",
       "      <td>0.0</td>\n",
       "      <td>17.0</td>\n",
       "      <td>0.0</td>\n",
       "      <td>27.0588</td>\n",
       "      <td>15.0</td>\n",
       "      <td>97.0</td>\n",
       "      <td>0.0</td>\n",
       "      <td>9.08</td>\n",
       "      <td>823.0</td>\n",
       "      <td>0.0</td>\n",
       "      <td>0.0</td>\n",
       "      <td>0.0</td>\n",
       "    </tr>\n",
       "    <tr>\n",
       "      <th>106463</th>\n",
       "      <td>1</td>\n",
       "      <td>10.0</td>\n",
       "      <td>2017-12-01 07:45:49</td>\n",
       "      <td>8b1091a89c10ddd3f3ddd3f3ddd3f3ddd3f3ddd3f3ddd3...</td>\n",
       "      <td>0.0</td>\n",
       "      <td>0.0</td>\n",
       "      <td>17.0</td>\n",
       "      <td>0.0</td>\n",
       "      <td>27.451</td>\n",
       "      <td>15.0</td>\n",
       "      <td>97.0</td>\n",
       "      <td>0.0</td>\n",
       "      <td>8.88</td>\n",
       "      <td>820.5</td>\n",
       "      <td>0.0</td>\n",
       "      <td>0.0</td>\n",
       "      <td>0.0</td>\n",
       "    </tr>\n",
       "    <tr>\n",
       "      <th>106464</th>\n",
       "      <td>1</td>\n",
       "      <td>10.0</td>\n",
       "      <td>2017-12-01 07:45:50</td>\n",
       "      <td>8b1091a89c10ddd3f3ddd3f3ddd3f3ddd3f3ddd3f3ddd3...</td>\n",
       "      <td>0.0</td>\n",
       "      <td>0.0</td>\n",
       "      <td>17.0</td>\n",
       "      <td>0.0</td>\n",
       "      <td>25.8824</td>\n",
       "      <td>15.0</td>\n",
       "      <td>97.0</td>\n",
       "      <td>0.0</td>\n",
       "      <td>8.97</td>\n",
       "      <td>822.5</td>\n",
       "      <td>0.0</td>\n",
       "      <td>0.0</td>\n",
       "      <td>0.0</td>\n",
       "    </tr>\n",
       "    <tr>\n",
       "      <th>106465</th>\n",
       "      <td>1</td>\n",
       "      <td>10.0</td>\n",
       "      <td>2017-12-01 07:45:51</td>\n",
       "      <td>8b1091a89c10ddd3f3ddd3f3ddd3f3ddd3f3ddd3f3ddd3...</td>\n",
       "      <td>0.0</td>\n",
       "      <td>0.0</td>\n",
       "      <td>17.0</td>\n",
       "      <td>0.0</td>\n",
       "      <td>27.0588</td>\n",
       "      <td>15.0</td>\n",
       "      <td>97.0</td>\n",
       "      <td>0.0</td>\n",
       "      <td>8.86</td>\n",
       "      <td>811.5</td>\n",
       "      <td>0.0</td>\n",
       "      <td>0.0</td>\n",
       "      <td>0.0</td>\n",
       "    </tr>\n",
       "    <tr>\n",
       "      <th>106466</th>\n",
       "      <td>1</td>\n",
       "      <td>10.0</td>\n",
       "      <td>2017-12-01 07:45:52</td>\n",
       "      <td>8b1091a89c10ddd3f3ddd3f3ddd3f3ddd3f3ddd3f3ddd3...</td>\n",
       "      <td>0.0</td>\n",
       "      <td>0.0</td>\n",
       "      <td>17.0</td>\n",
       "      <td>0.0</td>\n",
       "      <td>26.2745</td>\n",
       "      <td>15.0</td>\n",
       "      <td>97.0</td>\n",
       "      <td>0.0</td>\n",
       "      <td>9.02</td>\n",
       "      <td>815.5</td>\n",
       "      <td>0.0</td>\n",
       "      <td>0.0</td>\n",
       "      <td>0.0</td>\n",
       "    </tr>\n",
       "  </tbody>\n",
       "</table>\n",
       "</div>"
      ],
      "text/plain": [
       "        tripID  deviceID           timeStamp  \\\n",
       "106462       1      10.0 2017-12-01 07:45:48   \n",
       "106463       1      10.0 2017-12-01 07:45:49   \n",
       "106464       1      10.0 2017-12-01 07:45:50   \n",
       "106465       1      10.0 2017-12-01 07:45:51   \n",
       "106466       1      10.0 2017-12-01 07:45:52   \n",
       "\n",
       "                                                  accData gps_speed battery  \\\n",
       "106462  8b1091a89c10ddd3f3ddd3f30000000000000000000000...       0.0     0.0   \n",
       "106463  8b1091a89c10ddd3f3ddd3f3ddd3f3ddd3f3ddd3f3ddd3...       0.0     0.0   \n",
       "106464  8b1091a89c10ddd3f3ddd3f3ddd3f3ddd3f3ddd3f3ddd3...       0.0     0.0   \n",
       "106465  8b1091a89c10ddd3f3ddd3f3ddd3f3ddd3f3ddd3f3ddd3...       0.0     0.0   \n",
       "106466  8b1091a89c10ddd3f3ddd3f3ddd3f3ddd3f3ddd3f3ddd3...       0.0     0.0   \n",
       "\n",
       "       cTemp  dtc    eLoad   iat  imap  kpl   maf    rpm speed tAdv tPos  \n",
       "106462  17.0  0.0  27.0588  15.0  97.0  0.0  9.08  823.0   0.0  0.0  0.0  \n",
       "106463  17.0  0.0   27.451  15.0  97.0  0.0  8.88  820.5   0.0  0.0  0.0  \n",
       "106464  17.0  0.0  25.8824  15.0  97.0  0.0  8.97  822.5   0.0  0.0  0.0  \n",
       "106465  17.0  0.0  27.0588  15.0  97.0  0.0  8.86  811.5   0.0  0.0  0.0  \n",
       "106466  17.0  0.0  26.2745  15.0  97.0  0.0  9.02  815.5   0.0  0.0  0.0  "
      ]
     },
     "execution_count": 44,
     "metadata": {},
     "output_type": "execute_result"
    }
   ],
   "source": [
    "deviceID_10.head()"
   ]
  },
  {
   "cell_type": "code",
   "execution_count": 57,
   "metadata": {},
   "outputs": [],
   "source": [
    "# Convert Accelerometer reading to g units, 8bit data with a range of +-2g #\n",
    "def convert_acc(x):\n",
    "    x = int(x,16)\n",
    "    if x>127:\n",
    "        x = x-256\n",
    "    return np.float64(x*2/128)\n",
    "\n",
    "# Convert Magnetometer reading to uT units, 16bit data with a range of +-1200uT ef convert_mag(x):\n",
    "    x = int(x,16)\n",
    "    if x>32767:\n",
    "        x = x-65536\n",
    "    return np.float64(x*0.0366)"
   ]
  },
  {
   "cell_type": "code",
   "execution_count": 60,
   "metadata": {},
   "outputs": [
    {
     "name": "stderr",
     "output_type": "stream",
     "text": [
      "e:\\envirocar\\venv\\lib\\site-packages\\ipykernel_launcher.py:1: SettingWithCopyWarning: \n",
      "A value is trying to be set on a copy of a slice from a DataFrame.\n",
      "Try using .loc[row_indexer,col_indexer] = value instead\n",
      "\n",
      "See the caveats in the documentation: http://pandas.pydata.org/pandas-docs/stable/user_guide/indexing.html#returning-a-view-versus-a-copy\n",
      "  \"\"\"Entry point for launching an IPython kernel.\n"
     ]
    }
   ],
   "source": [
    "deviceID_10['accData'] = deviceID_10.accData.astype('str')\n",
    "accdata_10 = deviceID_10['accData'].values"
   ]
  },
  {
   "cell_type": "code",
   "execution_count": null,
   "metadata": {},
   "outputs": [],
   "source": []
  }
 ],
 "metadata": {
  "kernelspec": {
   "display_name": "envirocar",
   "language": "python",
   "name": "envirocar"
  },
  "language_info": {
   "codemirror_mode": {
    "name": "ipython",
    "version": 3
   },
   "file_extension": ".py",
   "mimetype": "text/x-python",
   "name": "python",
   "nbconvert_exporter": "python",
   "pygments_lexer": "ipython3",
   "version": "3.6.8"
  }
 },
 "nbformat": 4,
 "nbformat_minor": 2
}
