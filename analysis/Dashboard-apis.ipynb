{
 "cells": [
  {
   "cell_type": "code",
   "execution_count": 1,
   "metadata": {},
   "outputs": [],
   "source": [
    "import pandas as pd\n",
    "import numpy as np\n",
    "import matplotlib.pyplot as plt\n",
    "import seaborn as sns\n",
    "from statistics import mean"
   ]
  },
  {
   "cell_type": "code",
   "execution_count": 2,
   "metadata": {},
   "outputs": [],
   "source": [
    "from sqlalchemy import create_engine\n",
    "conn = create_engine('sqlite:///E:/Envirocar/myapp/envirocar.db')"
   ]
  },
  {
   "cell_type": "code",
   "execution_count": 3,
   "metadata": {},
   "outputs": [],
   "source": [
    "date = '2017-07-11'\n",
    "start_time = date + \" \" + \"00:00:00.000000\"\n",
    "end_time = date + \" \" + \"23:59:59.999999\"\n",
    "query = 'SELECT * FROM VehicleData WHERE Time >= ? and Time <= ?'\n",
    "\n",
    "data = pd.read_sql_query(query, conn, params=(start_time, end_time),parse_dates=['Time'])"
   ]
  },
  {
   "cell_type": "code",
   "execution_count": 90,
   "metadata": {},
   "outputs": [],
   "source": [
    "def extract_date_data(date):\n",
    "    start_time = date + \" \" + \"00:00:00.000000\"\n",
    "    end_time = date + \" \" + \"23:59:59.999999\"\n",
    "    query = 'SELECT * FROM DrivingData WHERE Time >= ? and Time <= ?'\n",
    "    data = pd.read_sql_query(query, conn, params=(start_time, end_time), parse_dates=['Time'])\n",
    "    return data    "
   ]
  },
  {
   "cell_type": "code",
   "execution_count": 59,
   "metadata": {},
   "outputs": [
    {
     "data": {
      "text/plain": [
       "46340"
      ]
     },
     "execution_count": 59,
     "metadata": {},
     "output_type": "execute_result"
    }
   ],
   "source": [
    "time = data.Time[data.TripID == 1].values\n",
    "len(time)\n",
    "#timedelta = time.diff()\n",
    "#timedelta.dtype"
   ]
  },
  {
   "cell_type": "code",
   "execution_count": 65,
   "metadata": {
    "scrolled": true
   },
   "outputs": [
    {
     "data": {
      "text/plain": [
       "array([              0,               0,               0, ...,\n",
       "       195576504000000, 195576504000000, 195576504000000],\n",
       "      dtype='timedelta64[ns]')"
      ]
     },
     "execution_count": 65,
     "metadata": {},
     "output_type": "execute_result"
    }
   ],
   "source": [
    "from scipy import integrate\n",
    "speed = data[data.TripID == 1]['Vehicle Speed Sensor'].values\n",
    "distance = integrate.cumtrapz(speed,x=time)\n",
    "distance"
   ]
  },
  {
   "cell_type": "code",
   "execution_count": 43,
   "metadata": {},
   "outputs": [],
   "source": [
    "def average_speed_of_trips(dateframe):\n",
    "    average_speeds = {}\n",
    "    trips = list(set(dateframe.TripID.values))\n",
    "    for trip in trips :\n",
    "        speed_values = dateframe[dateframe.TripID == trip]['Vehicle Speed Sensor'].values\n",
    "        av_speed = round(mean(speed_values),2)\n",
    "        average_speeds[trip] = av_speed\n",
    "    \n",
    "    return average_speeds\n",
    "        \n",
    "    "
   ]
  },
  {
   "cell_type": "code",
   "execution_count": 91,
   "metadata": {},
   "outputs": [
    {
     "data": {
      "text/plain": [
       "{1: 49.58, 2: 80.62}"
      ]
     },
     "execution_count": 91,
     "metadata": {},
     "output_type": "execute_result"
    }
   ],
   "source": [
    "average_speed_of_trips(data)"
   ]
  },
  {
   "cell_type": "code",
   "execution_count": 66,
   "metadata": {},
   "outputs": [
    {
     "data": {
      "text/plain": [
       "198.0"
      ]
     },
     "execution_count": 66,
     "metadata": {},
     "output_type": "execute_result"
    }
   ],
   "source": [
    "top = max(data['Vehicle Speed Sensor'].values)\n",
    "top"
   ]
  },
  {
   "cell_type": "code",
   "execution_count": 67,
   "metadata": {},
   "outputs": [],
   "source": [
    "def max_speeds_per_trip(dateframe):\n",
    "    max_speeds = {}\n",
    "    trips = list(set(dateframe.TripID.values))\n",
    "    for trip in trips :\n",
    "        top_speed = max(dateframe[dateframe.TripID == trip]['Vehicle Speed Sensor'].values)\n",
    "        max_speeds[trip] = top_speed\n",
    "        \n",
    "    return max_speeds"
   ]
  },
  {
   "cell_type": "code",
   "execution_count": 68,
   "metadata": {},
   "outputs": [
    {
     "data": {
      "text/plain": [
       "{1: 126.0, 2: 198.0}"
      ]
     },
     "execution_count": 68,
     "metadata": {},
     "output_type": "execute_result"
    }
   ],
   "source": [
    "max_speeds_per_trip(data)"
   ]
  },
  {
   "cell_type": "code",
   "execution_count": 72,
   "metadata": {},
   "outputs": [
    {
     "data": {
      "text/plain": [
       "6"
      ]
     },
     "execution_count": 72,
     "metadata": {},
     "output_type": "execute_result"
    }
   ],
   "source": [
    "sp = [0,0,7,6,6]\n",
    "sp = [x for x in sp if x != 0]\n",
    "min(sp)"
   ]
  },
  {
   "cell_type": "code",
   "execution_count": 73,
   "metadata": {},
   "outputs": [],
   "source": [
    "def min_speeds_per_trip(dateframe):\n",
    "    min_speeds = {}\n",
    "    trips = list(set(dateframe.TripID.values))\n",
    "    for trip in trips :\n",
    "        speed_values = dateframe[dateframe.TripID == trip]['Vehicle Speed Sensor'].values\n",
    "        reduced_speed_values = [x for x in speed_values if x != 0]\n",
    "        bottom_speed = min(reduced_speed_values)\n",
    "        min_speeds[trip] = bottom_speed\n",
    "        \n",
    "    return min_speeds"
   ]
  },
  {
   "cell_type": "code",
   "execution_count": 74,
   "metadata": {},
   "outputs": [
    {
     "data": {
      "text/plain": [
       "{1: 1.0, 2: 1.0}"
      ]
     },
     "execution_count": 74,
     "metadata": {},
     "output_type": "execute_result"
    }
   ],
   "source": [
    "min_speeds_per_trip(data)"
   ]
  },
  {
   "cell_type": "code",
   "execution_count": 140,
   "metadata": {},
   "outputs": [
    {
     "data": {
      "text/plain": [
       "array(['2017-07-05T07:16:56.006000000', '2017-07-05T07:16:56.095000000',\n",
       "       '2017-07-05T07:16:56.185000000', ...,\n",
       "       '2017-07-05T08:22:15.615000000', '2017-07-05T08:22:15.704000000',\n",
       "       '2017-07-05T08:22:15.794000000'], dtype='datetime64[ns]')"
      ]
     },
     "execution_count": 140,
     "metadata": {},
     "output_type": "execute_result"
    }
   ],
   "source": [
    "trip_data = data[data.TripID == 1]\n",
    "df = trip_data[trip_data['Vehicle Speed Sensor'] == 0]\n",
    "rpm = df[df['Engine RPM'] > 0]\n",
    "time = rpm.Time.values\n",
    "time"
   ]
  },
  {
   "cell_type": "code",
   "execution_count": 157,
   "metadata": {},
   "outputs": [],
   "source": [
    "def idle_engine_time(speed_array):\n",
    "    speed_values = speed_array\n",
    "    idle_time_periods = []\n",
    "    if (all(x == 0 for x in speed_values) and len(speed_values) > 0):\n",
    "        idle_time_periods.append(5)\n",
    "    \n",
    "    #print(idle_time_periods)    \n",
    "    return idle_time_periods"
   ]
  },
  {
   "cell_type": "code",
   "execution_count": 163,
   "metadata": {
    "scrolled": true
   },
   "outputs": [],
   "source": [
    "trip_data = data[data.TripID == 1]\n",
    "tri_data = trip_data.set_index('Time')\n",
    "trip_data = tri_data[tri_data['Vehicle Speed Sensor'] == 0]\n",
    "trip_data = trip_data[trip_data['Engine RPM'] > 0]\n",
    "trip_data = (trip_data['Vehicle Speed Sensor'].resample('5T').apply(idle_engine_time)).sum()"
   ]
  },
  {
   "cell_type": "code",
   "execution_count": 164,
   "metadata": {},
   "outputs": [
    {
     "data": {
      "text/plain": [
       "35.0"
      ]
     },
     "execution_count": 164,
     "metadata": {},
     "output_type": "execute_result"
    }
   ],
   "source": [
    "trip_data"
   ]
  },
  {
   "cell_type": "code",
   "execution_count": null,
   "metadata": {},
   "outputs": [],
   "source": [
    "trip_data = data[data.TripID == 1]\n",
    "speed_val = trip_data['Vehicle Speed Sensor'].values\n",
    "mpg_val = [x * 7.718 * 0.354 for x in speed_val]\n",
    "MPG = mean(mpg_val)\n"
   ]
  },
  {
   "cell_type": "code",
   "execution_count": 106,
   "metadata": {},
   "outputs": [
    {
     "data": {
      "text/plain": [
       "0   2017-07-05 07:16:31.257\n",
       "Name: Time, dtype: datetime64[ns]"
      ]
     },
     "execution_count": 106,
     "metadata": {},
     "output_type": "execute_result"
    }
   ],
   "source": [
    "data.Time.head(1)"
   ]
  },
  {
   "cell_type": "code",
   "execution_count": 110,
   "metadata": {},
   "outputs": [
    {
     "data": {
      "text/plain": [
       "12.94"
      ]
     },
     "execution_count": 110,
     "metadata": {},
     "output_type": "execute_result"
    }
   ],
   "source": [
    "dt = ((data.Time.tail(1).values - data.Time.head(1).values)[0])\n",
    "time = round(((trip_data.Time.tail(1).values - trip_data.Time.head(1).values)[0])/np.timedelta64(1,'h'),2)\n",
    "time"
   ]
  },
  {
   "cell_type": "code",
   "execution_count": 111,
   "metadata": {},
   "outputs": [
    {
     "data": {
      "text/plain": [
       "Index(['Time', 'Engine Coolant Temperature',\n",
       "       'Intake Manifold Absolute Pressure', 'Engine RPM',\n",
       "       'Vehicle Speed Sensor', 'Intake Air Temperature',\n",
       "       'Air Flow Rate from Mass Flow Sensor', 'Absolute Throttle Position',\n",
       "       'Ambient Air Temperature', 'Accelerator Pedal Position D',\n",
       "       'Accelerator Pedal Position E', 'TripID'],\n",
       "      dtype='object')"
      ]
     },
     "execution_count": 111,
     "metadata": {},
     "output_type": "execute_result"
    }
   ],
   "source": [
    "e_load = [x/2.55 for x in data['Vehicle Speed Sensor'].values]"
   ]
  },
  {
   "cell_type": "code",
   "execution_count": 124,
   "metadata": {},
   "outputs": [],
   "source": [
    "import pickle"
   ]
  },
  {
   "cell_type": "code",
   "execution_count": 135,
   "metadata": {},
   "outputs": [
    {
     "data": {
      "text/plain": [
       "<function list.count>"
      ]
     },
     "execution_count": 135,
     "metadata": {},
     "output_type": "execute_result"
    }
   ],
   "source": [
    "li = [2,3,4]\n",
    "li.count"
   ]
  },
  {
   "cell_type": "code",
   "execution_count": 174,
   "metadata": {},
   "outputs": [
    {
     "name": "stdout",
     "output_type": "stream",
     "text": [
      "17924\n"
     ]
    },
    {
     "data": {
      "text/plain": [
       "vs_norm            False\n",
       "es_norm            False\n",
       "rr_of_vs_and_es    False\n",
       "dtype: bool"
      ]
     },
     "execution_count": 174,
     "metadata": {},
     "output_type": "execute_result"
    }
   ],
   "source": [
    "trip_data = data[data.TripID == 1]\n",
    "throttle_change_rate = np.diff(trip_data['Absolute Throttle Position'].values) \n",
    "print(len(throttle_change_rate))\n",
    "es_change_rate = np.diff(trip_data['Engine RPM'].values)\n",
    "engine_load = [x/2.55 for x in trip_data['Vehicle Speed Sensor'].values]\n",
    "vs_change_rate =  np.diff(trip_data['Vehicle Speed Sensor'].values)\n",
    "mod_trip_data = pd.DataFrame({'Throttle_change_rate':throttle_change_rate,'ES_change_rate':es_change_rate,'VS_change_rate':vs_change_rate,\n",
    "                            'Engine_load':engine_load[:-1]})\n",
    "vehicle_speed_norm = [x/220 for x in trip_data['Vehicle Speed Sensor'].values[:len(trip_data['Vehicle Speed Sensor'].values)-1]]\n",
    "engine_speed_norm = [x/8000 for x in trip_data['Engine RPM'].values[:len(trip_data['Engine RPM'].values)-1]]\n",
    "df = pd.DataFrame({'vs_norm':vehicle_speed_norm,'es_norm':engine_speed_norm})\n",
    "df['rr_of_vs_and_es'] = df.vs_norm/df.es_norm\n",
    "df = df.dropna()\n",
    "#rr_of_vs_and_es = [i/j for i,j in zip(vehicle_speed_norm, engine_speed_norm)]\n",
    "#maximum_change_tp = max(throttle_change_rate)\n",
    "#maximum_change_es = max(es_change_rate)\n",
    "#throttle_position_norm = [x/maximum_change_tp for x in throttle_change_rate]\n",
    "#len(throttle_position_norm)\n",
    "#es_relative_norm = [x/maximum_change_es for x in es_change_rate]\n",
    "#len(es_relative_norm)\n",
    "#rr_of_tp_and_es = pd.Series([i/j for i,j in zip(throttle_position_norm, es_relative_norm)])\n",
    "#feature_set = pd.DataFrame({'rr_of_vs_and_es':rr_of_vs_and_es,'rr_of_tp_and_es':rr_of_tp_and_es,'engine_load':engine_load[:-1]})\n",
    "#feature_set = feature_set[~feature_set.isin([np.nan, np.inf, -np.inf]).any(1)]\n",
    "#filename = r'E:\\Envirocar\\analysis\\behaviour_analysis.sav'\n",
    "#loaded_model = pickle.load(open(filename,'rb'))\n",
    "#results = loaded_model.predict(feature_set).tolist()\n",
    "#print(max(results, key=results.count))"
   ]
  },
  {
   "cell_type": "code",
   "execution_count": 165,
   "metadata": {},
   "outputs": [
    {
     "data": {
      "text/plain": [
       "2"
      ]
     },
     "execution_count": 165,
     "metadata": {},
     "output_type": "execute_result"
    }
   ],
   "source": [
    "li = [1,1,2,2,2,2,4,7,8]\n",
    "from statistics import mode\n",
    "mode(li)"
   ]
  },
  {
   "cell_type": "code",
   "execution_count": 9,
   "metadata": {},
   "outputs": [
    {
     "name": "stdout",
     "output_type": "stream",
     "text": [
      "   Intake Manifold Absolute Pressure  Air Flow Rate from Mass Flow Sensor\n",
      "0                               96.0                                10.52\n",
      "1                               96.0                                10.52\n",
      "2                               97.0                                10.52\n",
      "3                               97.0                                10.52\n",
      "4                               97.0                                10.52\n"
     ]
    },
    {
     "name": "stderr",
     "output_type": "stream",
     "text": [
      "e:\\envirocar\\venv\\lib\\site-packages\\sklearn\\ensemble\\iforest.py:415: DeprecationWarning: threshold_ attribute is deprecated in 0.20 and will be removed in 0.22.\n",
      "  \" be removed in 0.22.\", DeprecationWarning)\n"
     ]
    },
    {
     "ename": "ValueError",
     "evalue": "Number of features of the model must match the input. Model n_features is 3 and input n_features is 2.",
     "output_type": "error",
     "traceback": [
      "\u001b[1;31m---------------------------------------------------------------------------\u001b[0m",
      "\u001b[1;31mValueError\u001b[0m                                Traceback (most recent call last)",
      "\u001b[1;32m<ipython-input-9-366dd49df0c7>\u001b[0m in \u001b[0;36m<module>\u001b[1;34m\u001b[0m\n\u001b[0;32m      8\u001b[0m \u001b[0mfilename\u001b[0m \u001b[1;33m=\u001b[0m \u001b[1;34mr'E:\\Envirocar\\analysis\\anomaly_detection.sav'\u001b[0m\u001b[1;33m\u001b[0m\u001b[1;33m\u001b[0m\u001b[0m\n\u001b[0;32m      9\u001b[0m \u001b[0mloaded_model\u001b[0m \u001b[1;33m=\u001b[0m \u001b[0mpickle\u001b[0m\u001b[1;33m.\u001b[0m\u001b[0mload\u001b[0m\u001b[1;33m(\u001b[0m\u001b[0mopen\u001b[0m\u001b[1;33m(\u001b[0m\u001b[0mfilename\u001b[0m\u001b[1;33m,\u001b[0m\u001b[1;34m'rb'\u001b[0m\u001b[1;33m)\u001b[0m\u001b[1;33m)\u001b[0m\u001b[1;33m\u001b[0m\u001b[1;33m\u001b[0m\u001b[0m\n\u001b[1;32m---> 10\u001b[1;33m \u001b[0mresults\u001b[0m \u001b[1;33m=\u001b[0m \u001b[0mloaded_model\u001b[0m\u001b[1;33m.\u001b[0m\u001b[0mpredict\u001b[0m\u001b[1;33m(\u001b[0m\u001b[0mtrip_data\u001b[0m\u001b[1;33m)\u001b[0m\u001b[1;33m.\u001b[0m\u001b[0mtolist\u001b[0m\u001b[1;33m(\u001b[0m\u001b[1;33m)\u001b[0m\u001b[1;33m\u001b[0m\u001b[1;33m\u001b[0m\u001b[0m\n\u001b[0m\u001b[0;32m     11\u001b[0m \u001b[0mnormal\u001b[0m \u001b[1;33m=\u001b[0m \u001b[1;33m(\u001b[0m\u001b[0mresults\u001b[0m\u001b[1;33m.\u001b[0m\u001b[0mcount\u001b[0m\u001b[1;33m(\u001b[0m\u001b[1;36m1\u001b[0m\u001b[1;33m)\u001b[0m\u001b[1;33m/\u001b[0m\u001b[0mlen\u001b[0m\u001b[1;33m(\u001b[0m\u001b[0mresults\u001b[0m\u001b[1;33m)\u001b[0m\u001b[1;33m)\u001b[0m\u001b[1;33m\u001b[0m\u001b[1;33m\u001b[0m\u001b[0m\n\u001b[0;32m     12\u001b[0m \u001b[0manomalies\u001b[0m \u001b[1;33m=\u001b[0m \u001b[0mresults\u001b[0m\u001b[1;33m.\u001b[0m\u001b[0mcount\u001b[0m\u001b[1;33m(\u001b[0m\u001b[1;33m-\u001b[0m\u001b[1;36m1\u001b[0m\u001b[1;33m)\u001b[0m\u001b[1;33m/\u001b[0m\u001b[0mlen\u001b[0m\u001b[1;33m(\u001b[0m\u001b[0mresults\u001b[0m\u001b[1;33m)\u001b[0m\u001b[1;33m\u001b[0m\u001b[1;33m\u001b[0m\u001b[0m\n",
      "\u001b[1;32me:\\envirocar\\venv\\lib\\site-packages\\sklearn\\ensemble\\iforest.py\u001b[0m in \u001b[0;36mpredict\u001b[1;34m(self, X)\u001b[0m\n\u001b[0;32m    334\u001b[0m         \u001b[0mis_inlier\u001b[0m \u001b[1;33m=\u001b[0m \u001b[0mnp\u001b[0m\u001b[1;33m.\u001b[0m\u001b[0mones\u001b[0m\u001b[1;33m(\u001b[0m\u001b[0mX\u001b[0m\u001b[1;33m.\u001b[0m\u001b[0mshape\u001b[0m\u001b[1;33m[\u001b[0m\u001b[1;36m0\u001b[0m\u001b[1;33m]\u001b[0m\u001b[1;33m,\u001b[0m \u001b[0mdtype\u001b[0m\u001b[1;33m=\u001b[0m\u001b[0mint\u001b[0m\u001b[1;33m)\u001b[0m\u001b[1;33m\u001b[0m\u001b[1;33m\u001b[0m\u001b[0m\n\u001b[0;32m    335\u001b[0m         \u001b[0mthreshold\u001b[0m \u001b[1;33m=\u001b[0m \u001b[0mself\u001b[0m\u001b[1;33m.\u001b[0m\u001b[0mthreshold_\u001b[0m \u001b[1;32mif\u001b[0m \u001b[0mself\u001b[0m\u001b[1;33m.\u001b[0m\u001b[0mbehaviour\u001b[0m \u001b[1;33m==\u001b[0m \u001b[1;34m'old'\u001b[0m \u001b[1;32melse\u001b[0m \u001b[1;36m0\u001b[0m\u001b[1;33m\u001b[0m\u001b[1;33m\u001b[0m\u001b[0m\n\u001b[1;32m--> 336\u001b[1;33m         \u001b[0mis_inlier\u001b[0m\u001b[1;33m[\u001b[0m\u001b[0mself\u001b[0m\u001b[1;33m.\u001b[0m\u001b[0mdecision_function\u001b[0m\u001b[1;33m(\u001b[0m\u001b[0mX\u001b[0m\u001b[1;33m)\u001b[0m \u001b[1;33m<\u001b[0m \u001b[0mthreshold\u001b[0m\u001b[1;33m]\u001b[0m \u001b[1;33m=\u001b[0m \u001b[1;33m-\u001b[0m\u001b[1;36m1\u001b[0m\u001b[1;33m\u001b[0m\u001b[1;33m\u001b[0m\u001b[0m\n\u001b[0m\u001b[0;32m    337\u001b[0m         \u001b[1;32mreturn\u001b[0m \u001b[0mis_inlier\u001b[0m\u001b[1;33m\u001b[0m\u001b[1;33m\u001b[0m\u001b[0m\n\u001b[0;32m    338\u001b[0m \u001b[1;33m\u001b[0m\u001b[0m\n",
      "\u001b[1;32me:\\envirocar\\venv\\lib\\site-packages\\sklearn\\ensemble\\iforest.py\u001b[0m in \u001b[0;36mdecision_function\u001b[1;34m(self, X)\u001b[0m\n\u001b[0;32m    367\u001b[0m         \u001b[1;31m# an outlier:\u001b[0m\u001b[1;33m\u001b[0m\u001b[1;33m\u001b[0m\u001b[1;33m\u001b[0m\u001b[0m\n\u001b[0;32m    368\u001b[0m \u001b[1;33m\u001b[0m\u001b[0m\n\u001b[1;32m--> 369\u001b[1;33m         \u001b[1;32mreturn\u001b[0m \u001b[0mself\u001b[0m\u001b[1;33m.\u001b[0m\u001b[0mscore_samples\u001b[0m\u001b[1;33m(\u001b[0m\u001b[0mX\u001b[0m\u001b[1;33m)\u001b[0m \u001b[1;33m-\u001b[0m \u001b[0mself\u001b[0m\u001b[1;33m.\u001b[0m\u001b[0moffset_\u001b[0m\u001b[1;33m\u001b[0m\u001b[1;33m\u001b[0m\u001b[0m\n\u001b[0m\u001b[0;32m    370\u001b[0m \u001b[1;33m\u001b[0m\u001b[0m\n\u001b[0;32m    371\u001b[0m     \u001b[1;32mdef\u001b[0m \u001b[0mscore_samples\u001b[0m\u001b[1;33m(\u001b[0m\u001b[0mself\u001b[0m\u001b[1;33m,\u001b[0m \u001b[0mX\u001b[0m\u001b[1;33m)\u001b[0m\u001b[1;33m:\u001b[0m\u001b[1;33m\u001b[0m\u001b[1;33m\u001b[0m\u001b[0m\n",
      "\u001b[1;32me:\\envirocar\\venv\\lib\\site-packages\\sklearn\\ensemble\\iforest.py\u001b[0m in \u001b[0;36mscore_samples\u001b[1;34m(self, X)\u001b[0m\n\u001b[0;32m    401\u001b[0m                              \u001b[1;34m\"match the input. Model n_features is {0} and \"\u001b[0m\u001b[1;33m\u001b[0m\u001b[1;33m\u001b[0m\u001b[0m\n\u001b[0;32m    402\u001b[0m                              \u001b[1;34m\"input n_features is {1}.\"\u001b[0m\u001b[1;33m\u001b[0m\u001b[1;33m\u001b[0m\u001b[0m\n\u001b[1;32m--> 403\u001b[1;33m                              \"\".format(self.n_features_, X.shape[1]))\n\u001b[0m\u001b[0;32m    404\u001b[0m \u001b[1;33m\u001b[0m\u001b[0m\n\u001b[0;32m    405\u001b[0m         \u001b[1;31m# Take the opposite of the scores as bigger is better (here less\u001b[0m\u001b[1;33m\u001b[0m\u001b[1;33m\u001b[0m\u001b[1;33m\u001b[0m\u001b[0m\n",
      "\u001b[1;31mValueError\u001b[0m: Number of features of the model must match the input. Model n_features is 3 and input n_features is 2."
     ]
    }
   ],
   "source": [
    "import pickle\n",
    "trip_data = data[data.TripID == 1]\n",
    "trip_data = trip_data.drop(['Time', 'Engine Coolant Temperature', 'Engine RPM',\n",
    "       'Vehicle Speed Sensor', 'Intake Air Temperature','Absolute Throttle Position',\n",
    "       'Ambient Air Temperature', 'Accelerator Pedal Position D',\n",
    "       'Accelerator Pedal Position E', 'TripID'], axis=1)\n",
    "print(trip_data.head())\n",
    "filename = r'E:\\Envirocar\\analysis\\anomaly_detection.sav'\n",
    "loaded_model = pickle.load(open(filename,'rb'))\n",
    "results = loaded_model.predict(trip_data).tolist()\n",
    "normal = (results.count(1)/len(results))\n",
    "anomalies = results.count(-1)/len(results)\n",
    "\n",
    "print(normal, anomalies)"
   ]
  },
  {
   "cell_type": "code",
   "execution_count": 4,
   "metadata": {},
   "outputs": [
    {
     "data": {
      "text/html": [
       "<div>\n",
       "<style scoped>\n",
       "    .dataframe tbody tr th:only-of-type {\n",
       "        vertical-align: middle;\n",
       "    }\n",
       "\n",
       "    .dataframe tbody tr th {\n",
       "        vertical-align: top;\n",
       "    }\n",
       "\n",
       "    .dataframe thead th {\n",
       "        text-align: right;\n",
       "    }\n",
       "</style>\n",
       "<table border=\"1\" class=\"dataframe\">\n",
       "  <thead>\n",
       "    <tr style=\"text-align: right;\">\n",
       "      <th></th>\n",
       "      <th>Time</th>\n",
       "      <th>Engine Coolant Temperature</th>\n",
       "      <th>Intake Manifold Absolute Pressure</th>\n",
       "      <th>Engine RPM</th>\n",
       "      <th>Vehicle Speed Sensor</th>\n",
       "      <th>Intake Air Temperature</th>\n",
       "      <th>Air Flow Rate from Mass Flow Sensor</th>\n",
       "      <th>Absolute Throttle Position</th>\n",
       "      <th>Ambient Air Temperature</th>\n",
       "      <th>Accelerator Pedal Position D</th>\n",
       "      <th>Accelerator Pedal Position E</th>\n",
       "      <th>TripID</th>\n",
       "    </tr>\n",
       "  </thead>\n",
       "  <tbody>\n",
       "    <tr>\n",
       "      <th>0</th>\n",
       "      <td>2017-07-11 08:24:30.585</td>\n",
       "      <td>24</td>\n",
       "      <td>96.0</td>\n",
       "      <td>934.0</td>\n",
       "      <td>0.0</td>\n",
       "      <td>33.0</td>\n",
       "      <td>10.52</td>\n",
       "      <td>82.7</td>\n",
       "      <td>17.0</td>\n",
       "      <td>14.1</td>\n",
       "      <td>14.5</td>\n",
       "      <td>1</td>\n",
       "    </tr>\n",
       "    <tr>\n",
       "      <th>1</th>\n",
       "      <td>2017-07-11 08:24:30.646</td>\n",
       "      <td>24</td>\n",
       "      <td>96.0</td>\n",
       "      <td>934.0</td>\n",
       "      <td>0.0</td>\n",
       "      <td>33.0</td>\n",
       "      <td>10.52</td>\n",
       "      <td>82.7</td>\n",
       "      <td>17.0</td>\n",
       "      <td>14.1</td>\n",
       "      <td>14.5</td>\n",
       "      <td>1</td>\n",
       "    </tr>\n",
       "    <tr>\n",
       "      <th>2</th>\n",
       "      <td>2017-07-11 08:24:30.706</td>\n",
       "      <td>24</td>\n",
       "      <td>97.0</td>\n",
       "      <td>934.0</td>\n",
       "      <td>0.0</td>\n",
       "      <td>33.0</td>\n",
       "      <td>10.52</td>\n",
       "      <td>82.7</td>\n",
       "      <td>17.0</td>\n",
       "      <td>14.1</td>\n",
       "      <td>14.5</td>\n",
       "      <td>1</td>\n",
       "    </tr>\n",
       "    <tr>\n",
       "      <th>3</th>\n",
       "      <td>2017-07-11 08:24:30.766</td>\n",
       "      <td>24</td>\n",
       "      <td>97.0</td>\n",
       "      <td>892.0</td>\n",
       "      <td>0.0</td>\n",
       "      <td>33.0</td>\n",
       "      <td>10.52</td>\n",
       "      <td>82.7</td>\n",
       "      <td>17.0</td>\n",
       "      <td>14.1</td>\n",
       "      <td>14.5</td>\n",
       "      <td>1</td>\n",
       "    </tr>\n",
       "    <tr>\n",
       "      <th>4</th>\n",
       "      <td>2017-07-11 08:24:30.855</td>\n",
       "      <td>24</td>\n",
       "      <td>97.0</td>\n",
       "      <td>892.0</td>\n",
       "      <td>0.0</td>\n",
       "      <td>33.0</td>\n",
       "      <td>10.52</td>\n",
       "      <td>82.7</td>\n",
       "      <td>17.0</td>\n",
       "      <td>14.1</td>\n",
       "      <td>14.5</td>\n",
       "      <td>1</td>\n",
       "    </tr>\n",
       "  </tbody>\n",
       "</table>\n",
       "</div>"
      ],
      "text/plain": [
       "                     Time  Engine Coolant Temperature  \\\n",
       "0 2017-07-11 08:24:30.585                          24   \n",
       "1 2017-07-11 08:24:30.646                          24   \n",
       "2 2017-07-11 08:24:30.706                          24   \n",
       "3 2017-07-11 08:24:30.766                          24   \n",
       "4 2017-07-11 08:24:30.855                          24   \n",
       "\n",
       "   Intake Manifold Absolute Pressure  Engine RPM  Vehicle Speed Sensor  \\\n",
       "0                               96.0       934.0                   0.0   \n",
       "1                               96.0       934.0                   0.0   \n",
       "2                               97.0       934.0                   0.0   \n",
       "3                               97.0       892.0                   0.0   \n",
       "4                               97.0       892.0                   0.0   \n",
       "\n",
       "   Intake Air Temperature  Air Flow Rate from Mass Flow Sensor  \\\n",
       "0                    33.0                                10.52   \n",
       "1                    33.0                                10.52   \n",
       "2                    33.0                                10.52   \n",
       "3                    33.0                                10.52   \n",
       "4                    33.0                                10.52   \n",
       "\n",
       "   Absolute Throttle Position  Ambient Air Temperature  \\\n",
       "0                        82.7                     17.0   \n",
       "1                        82.7                     17.0   \n",
       "2                        82.7                     17.0   \n",
       "3                        82.7                     17.0   \n",
       "4                        82.7                     17.0   \n",
       "\n",
       "   Accelerator Pedal Position D  Accelerator Pedal Position E  TripID  \n",
       "0                          14.1                          14.5       1  \n",
       "1                          14.1                          14.5       1  \n",
       "2                          14.1                          14.5       1  \n",
       "3                          14.1                          14.5       1  \n",
       "4                          14.1                          14.5       1  "
      ]
     },
     "execution_count": 4,
     "metadata": {},
     "output_type": "execute_result"
    }
   ],
   "source": [
    "data.head() "
   ]
  },
  {
   "cell_type": "code",
   "execution_count": 8,
   "metadata": {},
   "outputs": [],
   "source": [
    "trip_data = data[(data['Engine RPM'] == 0) & (data['Vehicle Speed Sensor'] == 0)]"
   ]
  },
  {
   "cell_type": "code",
   "execution_count": 9,
   "metadata": {},
   "outputs": [
    {
     "data": {
      "text/html": [
       "<div>\n",
       "<style scoped>\n",
       "    .dataframe tbody tr th:only-of-type {\n",
       "        vertical-align: middle;\n",
       "    }\n",
       "\n",
       "    .dataframe tbody tr th {\n",
       "        vertical-align: top;\n",
       "    }\n",
       "\n",
       "    .dataframe thead th {\n",
       "        text-align: right;\n",
       "    }\n",
       "</style>\n",
       "<table border=\"1\" class=\"dataframe\">\n",
       "  <thead>\n",
       "    <tr style=\"text-align: right;\">\n",
       "      <th></th>\n",
       "      <th>Engine Coolant Temperature</th>\n",
       "      <th>Intake Manifold Absolute Pressure</th>\n",
       "      <th>Engine RPM</th>\n",
       "      <th>Vehicle Speed Sensor</th>\n",
       "      <th>Intake Air Temperature</th>\n",
       "      <th>Air Flow Rate from Mass Flow Sensor</th>\n",
       "      <th>Absolute Throttle Position</th>\n",
       "      <th>Ambient Air Temperature</th>\n",
       "      <th>Accelerator Pedal Position D</th>\n",
       "      <th>Accelerator Pedal Position E</th>\n",
       "      <th>TripID</th>\n",
       "    </tr>\n",
       "  </thead>\n",
       "  <tbody>\n",
       "    <tr>\n",
       "      <th>count</th>\n",
       "      <td>3363.000000</td>\n",
       "      <td>3363.000000</td>\n",
       "      <td>3363.0</td>\n",
       "      <td>3363.0</td>\n",
       "      <td>3363.000000</td>\n",
       "      <td>3363.000000</td>\n",
       "      <td>3363.000000</td>\n",
       "      <td>3363.000000</td>\n",
       "      <td>3363.000000</td>\n",
       "      <td>3363.000000</td>\n",
       "      <td>3363.000000</td>\n",
       "    </tr>\n",
       "    <tr>\n",
       "      <th>mean</th>\n",
       "      <td>88.704728</td>\n",
       "      <td>96.609872</td>\n",
       "      <td>0.0</td>\n",
       "      <td>0.0</td>\n",
       "      <td>97.570324</td>\n",
       "      <td>0.033431</td>\n",
       "      <td>85.256259</td>\n",
       "      <td>19.536426</td>\n",
       "      <td>16.516652</td>\n",
       "      <td>16.880761</td>\n",
       "      <td>1.110913</td>\n",
       "    </tr>\n",
       "    <tr>\n",
       "      <th>std</th>\n",
       "      <td>6.792799</td>\n",
       "      <td>10.363244</td>\n",
       "      <td>0.0</td>\n",
       "      <td>0.0</td>\n",
       "      <td>27.670353</td>\n",
       "      <td>0.225766</td>\n",
       "      <td>15.821051</td>\n",
       "      <td>0.998852</td>\n",
       "      <td>11.902741</td>\n",
       "      <td>11.730967</td>\n",
       "      <td>0.390103</td>\n",
       "    </tr>\n",
       "    <tr>\n",
       "      <th>min</th>\n",
       "      <td>41.000000</td>\n",
       "      <td>41.000000</td>\n",
       "      <td>0.0</td>\n",
       "      <td>0.0</td>\n",
       "      <td>-2.000000</td>\n",
       "      <td>0.000000</td>\n",
       "      <td>13.700000</td>\n",
       "      <td>19.000000</td>\n",
       "      <td>14.100000</td>\n",
       "      <td>14.100000</td>\n",
       "      <td>1.000000</td>\n",
       "    </tr>\n",
       "    <tr>\n",
       "      <th>25%</th>\n",
       "      <td>87.000000</td>\n",
       "      <td>99.000000</td>\n",
       "      <td>0.0</td>\n",
       "      <td>0.0</td>\n",
       "      <td>81.000000</td>\n",
       "      <td>0.000000</td>\n",
       "      <td>89.000000</td>\n",
       "      <td>19.000000</td>\n",
       "      <td>14.100000</td>\n",
       "      <td>14.500000</td>\n",
       "      <td>1.000000</td>\n",
       "    </tr>\n",
       "    <tr>\n",
       "      <th>50%</th>\n",
       "      <td>90.000000</td>\n",
       "      <td>99.000000</td>\n",
       "      <td>0.0</td>\n",
       "      <td>0.0</td>\n",
       "      <td>97.000000</td>\n",
       "      <td>0.000000</td>\n",
       "      <td>89.000000</td>\n",
       "      <td>19.000000</td>\n",
       "      <td>14.100000</td>\n",
       "      <td>14.500000</td>\n",
       "      <td>1.000000</td>\n",
       "    </tr>\n",
       "    <tr>\n",
       "      <th>75%</th>\n",
       "      <td>91.000000</td>\n",
       "      <td>99.000000</td>\n",
       "      <td>0.0</td>\n",
       "      <td>0.0</td>\n",
       "      <td>117.000000</td>\n",
       "      <td>0.000000</td>\n",
       "      <td>89.000000</td>\n",
       "      <td>20.000000</td>\n",
       "      <td>14.100000</td>\n",
       "      <td>14.500000</td>\n",
       "      <td>1.000000</td>\n",
       "    </tr>\n",
       "    <tr>\n",
       "      <th>max</th>\n",
       "      <td>94.000000</td>\n",
       "      <td>181.000000</td>\n",
       "      <td>0.0</td>\n",
       "      <td>0.0</td>\n",
       "      <td>149.000000</td>\n",
       "      <td>3.300000</td>\n",
       "      <td>89.000000</td>\n",
       "      <td>23.000000</td>\n",
       "      <td>85.100000</td>\n",
       "      <td>84.300000</td>\n",
       "      <td>3.000000</td>\n",
       "    </tr>\n",
       "  </tbody>\n",
       "</table>\n",
       "</div>"
      ],
      "text/plain": [
       "       Engine Coolant Temperature  Intake Manifold Absolute Pressure  \\\n",
       "count                 3363.000000                        3363.000000   \n",
       "mean                    88.704728                          96.609872   \n",
       "std                      6.792799                          10.363244   \n",
       "min                     41.000000                          41.000000   \n",
       "25%                     87.000000                          99.000000   \n",
       "50%                     90.000000                          99.000000   \n",
       "75%                     91.000000                          99.000000   \n",
       "max                     94.000000                         181.000000   \n",
       "\n",
       "       Engine RPM  Vehicle Speed Sensor  Intake Air Temperature  \\\n",
       "count      3363.0                3363.0             3363.000000   \n",
       "mean          0.0                   0.0               97.570324   \n",
       "std           0.0                   0.0               27.670353   \n",
       "min           0.0                   0.0               -2.000000   \n",
       "25%           0.0                   0.0               81.000000   \n",
       "50%           0.0                   0.0               97.000000   \n",
       "75%           0.0                   0.0              117.000000   \n",
       "max           0.0                   0.0              149.000000   \n",
       "\n",
       "       Air Flow Rate from Mass Flow Sensor  Absolute Throttle Position  \\\n",
       "count                          3363.000000                 3363.000000   \n",
       "mean                              0.033431                   85.256259   \n",
       "std                               0.225766                   15.821051   \n",
       "min                               0.000000                   13.700000   \n",
       "25%                               0.000000                   89.000000   \n",
       "50%                               0.000000                   89.000000   \n",
       "75%                               0.000000                   89.000000   \n",
       "max                               3.300000                   89.000000   \n",
       "\n",
       "       Ambient Air Temperature  Accelerator Pedal Position D  \\\n",
       "count              3363.000000                   3363.000000   \n",
       "mean                 19.536426                     16.516652   \n",
       "std                   0.998852                     11.902741   \n",
       "min                  19.000000                     14.100000   \n",
       "25%                  19.000000                     14.100000   \n",
       "50%                  19.000000                     14.100000   \n",
       "75%                  20.000000                     14.100000   \n",
       "max                  23.000000                     85.100000   \n",
       "\n",
       "       Accelerator Pedal Position E       TripID  \n",
       "count                   3363.000000  3363.000000  \n",
       "mean                      16.880761     1.110913  \n",
       "std                       11.730967     0.390103  \n",
       "min                       14.100000     1.000000  \n",
       "25%                       14.500000     1.000000  \n",
       "50%                       14.500000     1.000000  \n",
       "75%                       14.500000     1.000000  \n",
       "max                       84.300000     3.000000  "
      ]
     },
     "execution_count": 9,
     "metadata": {},
     "output_type": "execute_result"
    }
   ],
   "source": [
    "trip_data.describe()"
   ]
  },
  {
   "cell_type": "code",
   "execution_count": 10,
   "metadata": {},
   "outputs": [
    {
     "data": {
      "text/plain": [
       "<matplotlib.axes._subplots.AxesSubplot at 0x249b1bcb860>"
      ]
     },
     "execution_count": 10,
     "metadata": {},
     "output_type": "execute_result"
    },
    {
     "data": {
      "image/png": "[encoded data removed]",
      "text/plain": [
       "<Figure size 432x288 with 1 Axes>"
      ]
     },
     "metadata": {
      "needs_background": "light"
     },
     "output_type": "display_data"
    }
   ],
   "source": [
    "trip_data.Time.plot()"
   ]
  },
  {
   "cell_type": "code",
   "execution_count": null,
   "metadata": {},
   "outputs": [],
   "source": []
  }
 ],
 "metadata": {
  "kernelspec": {
   "display_name": "envirocar",
   "language": "python",
   "name": "envirocar"
  },
  "language_info": {
   "codemirror_mode": {
    "name": "ipython",
    "version": 3
   },
   "file_extension": ".py",
   "mimetype": "text/x-python",
   "name": "python",
   "nbconvert_exporter": "python",
   "pygments_lexer": "ipython3",
   "version": "3.6.8"
  }
 },
 "nbformat": 4,
 "nbformat_minor": 2
}
